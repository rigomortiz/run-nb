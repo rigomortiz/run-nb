{
 "cells": [
  {
   "cell_type": "code",
   "execution_count": null,
   "outputs": [],
   "source": [
    "%%test\n",
    "import pytest\n",
    "\n",
    "@pytest.fixture(scope=\"session\")\n",
    "def first_entry():\n",
    "    return '{PARAM}'\n",
    "\n",
    "\n",
    "@pytest.fixture(scope=\"session\")\n",
    "def order(first_entry):\n",
    "    return []\n",
    "\n",
    "\n",
    "@pytest.fixture(autouse=True)\n",
    "def append_first(order, first_entry):\n",
    "    return order.append(first_entry)\n",
    "\n",
    "\n",
    "def test_string_only(order, first_entry):\n",
    "    assert order == [first_entry]\n",
    "\n",
    "\n",
    "def test_string_and_int(order, first_entry):\n",
    "    order.append(2)\n",
    "    assert order == [first_entry, 2]\n"
   ],
   "metadata": {
    "collapsed": false
   }
  },
  {
   "cell_type": "code",
   "execution_count": null,
   "outputs": [],
   "source": [
    "%%test\n",
    "import pytest\n",
    "\n",
    "@pytest.fixture(autouse=True)\n",
    "def append_first(order, first_entry):\n",
    "    return order.append(first_entry)\n",
    "\n",
    "\n",
    "def test_string_only_2(order, first_entry):\n",
    "    assert order == [first_entry]\n",
    "\n",
    "\n",
    "def test_string_and_int(order, first_entry):\n",
    "    order.append(2)\n",
    "    assert order == [first_entry, 2]"
   ],
   "metadata": {
    "collapsed": false
   }
  }
 ],
 "metadata": {
  "kernelspec": {
   "display_name": "Python 3 (ipykernel)",
   "language": "python",
   "name": "python3"
  },
  "language_info": {
   "codemirror_mode": {
    "name": "ipython",
    "version": 3
   },
   "file_extension": ".py",
   "mimetype": "text/x-python",
   "name": "python",
   "nbconvert_exporter": "python",
   "pygments_lexer": "ipython3",
   "version": "3.9.2"
  }
 },
 "nbformat": 4,
 "nbformat_minor": 1
}
