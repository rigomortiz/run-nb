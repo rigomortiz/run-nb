{
 "cells": [
  {
   "cell_type": "code",
   "execution_count": null,
   "metadata": {},
   "outputs": [],
   "source": [
    "%%test\n",
    "from IPython.display import display, HTML\n",
    "from pyspark.sql.functions import *\n",
    "\n",
    "def inc(x):\n",
    "    return x + 1\n",
    "\n",
    "def test_answer():\n",
    "    assert inc(3) == 4\n",
    "\n",
    "def spark_session_dataframe(spark_session):\n",
    "    test_df = spark_session.createDataFrame([[1,3],[2,4],[1,2],[1,0]], \"a: int, b: int\")\n",
    "    return test_df\n",
    "    \n",
    "def test_spark_session_dataframe_2(spark_session):\n",
    "    test_df = spark_session_dataframe(spark_session)\n",
    "    display(HTML(test_df.limit(10).toPandas().to_html()))\n",
    "    \n",
    "    assert test_df.count() == {COUNT}"
   ]
  }
 ],
 "metadata": {
  "kernelspec": {
   "display_name": "Python 3 (ipykernel)",
   "language": "python",
   "name": "python3"
  },
  "language_info": {
   "codemirror_mode": {
    "name": "ipython",
    "version": 3
   },
   "file_extension": ".py",
   "mimetype": "text/x-python",
   "name": "python",
   "nbconvert_exporter": "python",
   "pygments_lexer": "ipython3",
   "version": "3.9.2"
  }
 },
 "nbformat": 4,
 "nbformat_minor": 1
}
