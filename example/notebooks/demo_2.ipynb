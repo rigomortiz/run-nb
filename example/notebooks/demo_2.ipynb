{
 "cells": [
  {
   "cell_type": "code",
   "execution_count": null,
   "metadata": {},
   "outputs": [],
   "source": [
    "print(DATE_HOLDING)"
   ]
  },
  {
   "cell_type": "code",
   "execution_count": null,
   "outputs": [],
   "source": [
    "print(DATE_CDD)"
   ],
   "metadata": {
    "collapsed": false
   }
  },
  {
   "cell_type": "code",
   "execution_count": null,
   "outputs": [],
   "source": [
    "print(DATE_NDOD)"
   ],
   "metadata": {
    "collapsed": false
   }
  },
  {
   "cell_type": "code",
   "execution_count": null,
   "metadata": {},
   "outputs": [],
   "source": [
    "CUTOFF_DATE_BASE = '2018-01-01'\n",
    "%env @CUTOFF_DATE_BASE@ = $CUTOFF_DATE_BASE\n",
    "print(CUTOFF_DATE_BASE)"
   ]
  },
  {
   "cell_type": "code",
   "execution_count": null,
   "outputs": [],
   "source": [
    "STR = CUTOFF_DATE_BASE + DATE_CDD\n",
    "print(STR)"
   ],
   "metadata": {
    "collapsed": false
   }
  },
  {
   "cell_type": "code",
   "execution_count": null,
   "outputs": [],
   "source": [
    "%%test\n",
    "\n",
    "def test_rule_1():\n",
    "    assert '2018-01-31' == '{DATE_HOLDING}'\n",
    "    \n",
    "def test_rule_2():\n",
    "    assert '2018-02-28' == '{DATE_HOLDING}'  \n",
    "    \n",
    "def test_rule_3():\n",
    "    assert '2018-03-31' == '{DATE_HOLDING}'"
   ],
   "metadata": {
    "collapsed": false
   }
  }
 ],
 "metadata": {
  "kernelspec": {
   "display_name": "Python 3 (ipykernel)",
   "language": "python",
   "name": "python3"
  },
  "language_info": {
   "codemirror_mode": {
    "name": "ipython",
    "version": 3
   },
   "file_extension": ".py",
   "mimetype": "text/x-python",
   "name": "python",
   "nbconvert_exporter": "python",
   "pygments_lexer": "ipython3",
   "version": "3.9.2"
  }
 },
 "nbformat": 4,
 "nbformat_minor": 1
}
